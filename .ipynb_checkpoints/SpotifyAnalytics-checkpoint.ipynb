{
 "cells": [
  {
   "cell_type": "markdown",
   "metadata": {},
   "source": [
    "### refernces"
   ]
  },
  {
   "cell_type": "markdown",
   "metadata": {},
   "source": [
    "https://github.com/UWGabrielXu/Spotify-Music-Data-Analysis/blob/gh-pages/backup.md"
   ]
  },
  {
   "cell_type": "markdown",
   "metadata": {},
   "source": [
    "* json checker\n",
    "http://kimihiro-n.site44.com/json_dump/\n",
    "* curl command to python code\n",
    "https://curl.trillworks.com/"
   ]
  },
  {
   "cell_type": "markdown",
   "metadata": {},
   "source": [
    "## Get Data from Spotify"
   ]
  },
  {
   "cell_type": "code",
   "execution_count": 5,
   "metadata": {
    "collapsed": true
   },
   "outputs": [],
   "source": [
    "lists = {'danceability': 0.469, 'energy': 0.316, 'key': 2, 'loudness': -5.268, 'mode': 1, 'speechiness': 0.0297, 'acousticness': 0.155, 'instrumentalness': 3.72e-06, 'liveness': 0.108, 'valence': 0.232, 'tempo': 129.793, 'type': 'audio_features', 'id': '5547Ud5o8NeEZqEFz08OSC', 'uri': 'spotify:track:5547Ud5o8NeEZqEFz08OSC', 'track_href': 'https://api.spotify.com/v1/tracks/5547Ud5o8NeEZqEFz08OSC', 'analysis_url': 'https://api.spotify.com/v1/audio-analysis/5547Ud5o8NeEZqEFz08OSC', 'duration_ms': 276920, 'time_signature': 4}"
   ]
  },
  {
   "cell_type": "code",
   "execution_count": 7,
   "metadata": {},
   "outputs": [],
   "source": [
    "import pandas as pd"
   ]
  },
  {
   "cell_type": "code",
   "execution_count": 8,
   "metadata": {},
   "outputs": [
    {
     "data": {
      "text/plain": [
       "0    a\n",
       "1    3\n",
       "2    b\n",
       "3    4\n",
       "dtype: object"
      ]
     },
     "execution_count": 8,
     "metadata": {},
     "output_type": "execute_result"
    }
   ],
   "source": [
    "a = ['a', 3, 'b', 4]\n",
    "pd.Series(a)"
   ]
  },
  {
   "cell_type": "code",
   "execution_count": null,
   "metadata": {
    "collapsed": true
   },
   "outputs": [],
   "source": []
  }
 ],
 "metadata": {
  "kernelspec": {
   "display_name": "Python 3",
   "language": "python",
   "name": "python3"
  },
  "language_info": {
   "codemirror_mode": {
    "name": "ipython",
    "version": 3
   },
   "file_extension": ".py",
   "mimetype": "text/x-python",
   "name": "python",
   "nbconvert_exporter": "python",
   "pygments_lexer": "ipython3",
   "version": "3.6.3"
  }
 },
 "nbformat": 4,
 "nbformat_minor": 2
}
