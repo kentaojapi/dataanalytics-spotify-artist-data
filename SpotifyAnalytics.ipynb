{
  "nbformat": 4,
  "nbformat_minor": 0,
  "metadata": {
    "colab": {
      "name": "SpotifyAnalytics.ipynb",
      "version": "0.3.2",
      "provenance": [],
      "include_colab_link": true
    },
    "kernelspec": {
      "display_name": "Python 3",
      "language": "python",
      "name": "python3"
    }
  },
  "cells": [
    {
      "cell_type": "markdown",
      "metadata": {
        "id": "view-in-github",
        "colab_type": "text"
      },
      "source": [
        "<a href=\"https://colab.research.google.com/github/kentaojapi/dataanalytics-spotify-artist-data/blob/master/SpotifyAnalytics.ipynb\" target=\"_parent\"><img src=\"https://colab.research.google.com/assets/colab-badge.svg\" alt=\"Open In Colab\"/></a>"
      ]
    },
    {
      "metadata": {
        "id": "8xVHorqEEaV9",
        "colab_type": "text"
      },
      "cell_type": "markdown",
      "source": [
        "# Refernces"
      ]
    },
    {
      "metadata": {
        "id": "HkASUgNiEaV_",
        "colab_type": "text"
      },
      "cell_type": "markdown",
      "source": [
        "https://github.com/UWGabrielXu/Spotify-Music-Data-Analysis/blob/gh-pages/backup.md"
      ]
    },
    {
      "metadata": {
        "id": "LXs-FvPDEaWC",
        "colab_type": "text"
      },
      "cell_type": "markdown",
      "source": [
        "* json checker\n",
        "http://kimihiro-n.site44.com/json_dump/\n",
        "* curl command to python code\n",
        "https://curl.trillworks.com/\n",
        "* Spotify API Audio Features explation\n",
        "https://developer.spotify.com/documentation/web-api/reference/object-model/"
      ]
    },
    {
      "metadata": {
        "id": "6um0yVQJEaWD",
        "colab_type": "text"
      },
      "cell_type": "markdown",
      "source": [
        "# Visualize Audio Features of an Artist"
      ]
    },
    {
      "metadata": {
        "id": "g4KX0Rqre_nx",
        "colab_type": "code",
        "colab": {
          "base_uri": "https://localhost:8080/",
          "height": 153
        },
        "outputId": "26e80978-fad2-4235-b3df-b3e5e0253fc0"
      },
      "cell_type": "code",
      "source": [
        "# download jp-font\n",
        "!apt-get -y install fonts-ipafont-gothic\n",
        "# rm cachefile\n",
        "!rm /root/.cache/matplotlib/fontlist-v300.json\n",
        "\n",
        "### その後ラインタイムをリセットすること ###"
      ],
      "execution_count": 3,
      "outputs": [
        {
          "output_type": "stream",
          "text": [
            "Reading package lists... Done\n",
            "Building dependency tree       \n",
            "Reading state information... Done\n",
            "fonts-ipafont-gothic is already the newest version (00303-18ubuntu1).\n",
            "The following package was automatically installed and is no longer required:\n",
            "  libnvidia-common-410\n",
            "Use 'apt autoremove' to remove it.\n",
            "0 upgraded, 0 newly installed, 0 to remove and 6 not upgraded.\n"
          ],
          "name": "stdout"
        }
      ]
    },
    {
      "metadata": {
        "id": "KYX0Q84yEaWE",
        "colab_type": "code",
        "colab": {}
      },
      "cell_type": "code",
      "source": [
        "import pandas as pd\n",
        "import matplotlib.pyplot as plt\n",
        "from matplotlib import rc, font_manager\n",
        "import matplotlib\n",
        "import seaborn as sns\n",
        "import numpy as np\n",
        "%matplotlib inline\n",
        "import matplotlib as mpl\n",
        "#mpl.rcParams['font.family'] = 'AppleGothic'"
      ],
      "execution_count": 0,
      "outputs": []
    },
    {
      "metadata": {
        "id": "eOL9z2wPKrAA",
        "colab_type": "code",
        "colab": {}
      },
      "cell_type": "code",
      "source": [
        "from googleapiclient.discovery import build\n",
        "import io, os\n",
        "from googleapiclient.http import MediaIoBaseDownload\n",
        "from google.colab import auth\n",
        "\n",
        "auth.authenticate_user()"
      ],
      "execution_count": 0,
      "outputs": []
    },
    {
      "metadata": {
        "id": "FUt1zYdCEcf7",
        "colab_type": "code",
        "colab": {}
      },
      "cell_type": "code",
      "source": [
        "!mkdir audio-features\n",
        "!ls ../content/audio-features/"
      ],
      "execution_count": 0,
      "outputs": []
    },
    {
      "metadata": {
        "id": "RSjswo_H-JB1",
        "colab_type": "code",
        "colab": {}
      },
      "cell_type": "code",
      "source": [
        "from google.cloud import storage\n",
        "\n",
        "\n",
        "def download_blob(bucket_name, source_blob_name, destination_file_name):\n",
        "    \"\"\"\n",
        "    Downloads a blob from the bucket.\n",
        "    refer : https://github.com/GoogleCloudPlatform/python-docs-samples/blob/master/storage/cloud-client/snippets.py\n",
        "    \"\"\"\n",
        "    storage_client = storage.Client('atomic-lens-188216')\n",
        "    bucket = storage_client.get_bucket(bucket_name)\n",
        "    blob = bucket.blob(source_blob_name)\n",
        "    blob.download_to_filename(destination_file_name)\n",
        "\n",
        "\n",
        "bucket_name = \"spotify-analysis\"\n",
        "artist_name = \"gaudies\"\n",
        "source_blob_name = \"audio-features_{}.csv\".format(artist_name)\n",
        "destination_file_name = \"../content/audio-features/audio-features_{}.csv\".format(artist_name)\n",
        "download_blob(bucket_name, source_blob_name, destination_file_name)"
      ],
      "execution_count": 0,
      "outputs": []
    },
    {
      "metadata": {
        "id": "aCrkCv28EaWJ",
        "colab_type": "code",
        "outputId": "a053ffd0-f76c-4942-c695-be40ceea0a25",
        "colab": {
          "base_uri": "https://localhost:8080/",
          "height": 122
        }
      },
      "cell_type": "code",
      "source": [
        "#df = pd.read_csv('audio_features_zaningen.csv')\n",
        "from google.colab import drive\n",
        "drive.mount('/content/drive')"
      ],
      "execution_count": 7,
      "outputs": [
        {
          "output_type": "stream",
          "text": [
            "Go to this URL in a browser: https://accounts.google.com/o/oauth2/auth?client_id=947318989803-6bn6qk8qdgf4n4g3pfee6491hc0brc4i.apps.googleusercontent.com&redirect_uri=urn%3Aietf%3Awg%3Aoauth%3A2.0%3Aoob&scope=email%20https%3A%2F%2Fwww.googleapis.com%2Fauth%2Fdocs.test%20https%3A%2F%2Fwww.googleapis.com%2Fauth%2Fdrive%20https%3A%2F%2Fwww.googleapis.com%2Fauth%2Fdrive.photos.readonly%20https%3A%2F%2Fwww.googleapis.com%2Fauth%2Fpeopleapi.readonly&response_type=code\n",
            "\n",
            "Enter your authorization code:\n",
            "··········\n",
            "Mounted at /content/drive\n"
          ],
          "name": "stdout"
        }
      ]
    },
    {
      "metadata": {
        "id": "8-H649U6T9rY",
        "colab_type": "code",
        "colab": {}
      },
      "cell_type": "code",
      "source": [
        "df = pd.read_csv(destination_file_name)\n",
        "#df_zaningen = pd.read_csv('drive/My Drive/machine_learning/dataanalysis-spotify/audio_features_zaningen.csv')"
      ],
      "execution_count": 0,
      "outputs": []
    },
    {
      "metadata": {
        "id": "K08peHf6EaWL",
        "colab_type": "code",
        "outputId": "20e7b73a-184a-479e-d098-8ab46aadc8df",
        "colab": {
          "base_uri": "https://localhost:8080/",
          "height": 309
        }
      },
      "cell_type": "code",
      "source": [
        "df.head()"
      ],
      "execution_count": 9,
      "outputs": [
        {
          "output_type": "execute_result",
          "data": {
            "text/html": [
              "<div>\n",
              "<style scoped>\n",
              "    .dataframe tbody tr th:only-of-type {\n",
              "        vertical-align: middle;\n",
              "    }\n",
              "\n",
              "    .dataframe tbody tr th {\n",
              "        vertical-align: top;\n",
              "    }\n",
              "\n",
              "    .dataframe thead th {\n",
              "        text-align: right;\n",
              "    }\n",
              "</style>\n",
              "<table border=\"1\" class=\"dataframe\">\n",
              "  <thead>\n",
              "    <tr style=\"text-align: right;\">\n",
              "      <th></th>\n",
              "      <th>acousticness</th>\n",
              "      <th>analysis_url</th>\n",
              "      <th>danceability</th>\n",
              "      <th>duration_ms</th>\n",
              "      <th>energy</th>\n",
              "      <th>id</th>\n",
              "      <th>instrumentalness</th>\n",
              "      <th>key</th>\n",
              "      <th>liveness</th>\n",
              "      <th>loudness</th>\n",
              "      <th>mode</th>\n",
              "      <th>speechiness</th>\n",
              "      <th>tempo</th>\n",
              "      <th>time_signature</th>\n",
              "      <th>track_href</th>\n",
              "      <th>type</th>\n",
              "      <th>uri</th>\n",
              "      <th>valence</th>\n",
              "      <th>name</th>\n",
              "    </tr>\n",
              "  </thead>\n",
              "  <tbody>\n",
              "    <tr>\n",
              "      <th>0</th>\n",
              "      <td>0.000571</td>\n",
              "      <td>https://api.spotify.com/v1/audio-analysis/2W53...</td>\n",
              "      <td>0.496</td>\n",
              "      <td>220093</td>\n",
              "      <td>0.693</td>\n",
              "      <td>2W53mNmiU1NWS5vqHxcJqT</td>\n",
              "      <td>0.000061</td>\n",
              "      <td>11</td>\n",
              "      <td>0.0795</td>\n",
              "      <td>-2.883</td>\n",
              "      <td>0</td>\n",
              "      <td>0.0353</td>\n",
              "      <td>122.019</td>\n",
              "      <td>4</td>\n",
              "      <td>https://api.spotify.com/v1/tracks/2W53mNmiU1NW...</td>\n",
              "      <td>audio_features</td>\n",
              "      <td>spotify:track:2W53mNmiU1NWS5vqHxcJqT</td>\n",
              "      <td>0.688</td>\n",
              "      <td>哲学の先生</td>\n",
              "    </tr>\n",
              "    <tr>\n",
              "      <th>1</th>\n",
              "      <td>0.010900</td>\n",
              "      <td>https://api.spotify.com/v1/audio-analysis/5Q9Q...</td>\n",
              "      <td>0.527</td>\n",
              "      <td>200840</td>\n",
              "      <td>0.835</td>\n",
              "      <td>5Q9QkpgfVavSohqVSPKqN2</td>\n",
              "      <td>0.000041</td>\n",
              "      <td>9</td>\n",
              "      <td>0.0999</td>\n",
              "      <td>-5.341</td>\n",
              "      <td>1</td>\n",
              "      <td>0.0259</td>\n",
              "      <td>99.990</td>\n",
              "      <td>4</td>\n",
              "      <td>https://api.spotify.com/v1/tracks/5Q9QkpgfVavS...</td>\n",
              "      <td>audio_features</td>\n",
              "      <td>spotify:track:5Q9QkpgfVavSohqVSPKqN2</td>\n",
              "      <td>0.562</td>\n",
              "      <td>ギターの教本</td>\n",
              "    </tr>\n",
              "    <tr>\n",
              "      <th>2</th>\n",
              "      <td>0.015600</td>\n",
              "      <td>https://api.spotify.com/v1/audio-analysis/6rKN...</td>\n",
              "      <td>0.288</td>\n",
              "      <td>289027</td>\n",
              "      <td>0.841</td>\n",
              "      <td>6rKNtTTC2rQhHyrKBhniQa</td>\n",
              "      <td>0.000002</td>\n",
              "      <td>7</td>\n",
              "      <td>0.3000</td>\n",
              "      <td>-4.076</td>\n",
              "      <td>1</td>\n",
              "      <td>0.0326</td>\n",
              "      <td>182.027</td>\n",
              "      <td>4</td>\n",
              "      <td>https://api.spotify.com/v1/tracks/6rKNtTTC2rQh...</td>\n",
              "      <td>audio_features</td>\n",
              "      <td>spotify:track:6rKNtTTC2rQhHyrKBhniQa</td>\n",
              "      <td>0.465</td>\n",
              "      <td>悪い癖</td>\n",
              "    </tr>\n",
              "    <tr>\n",
              "      <th>3</th>\n",
              "      <td>0.257000</td>\n",
              "      <td>https://api.spotify.com/v1/audio-analysis/4WjB...</td>\n",
              "      <td>0.498</td>\n",
              "      <td>196973</td>\n",
              "      <td>0.710</td>\n",
              "      <td>4WjB9MQVr8WcsnJbhsttqh</td>\n",
              "      <td>0.000002</td>\n",
              "      <td>9</td>\n",
              "      <td>0.1190</td>\n",
              "      <td>-4.361</td>\n",
              "      <td>0</td>\n",
              "      <td>0.0309</td>\n",
              "      <td>82.920</td>\n",
              "      <td>4</td>\n",
              "      <td>https://api.spotify.com/v1/tracks/4WjB9MQVr8Wc...</td>\n",
              "      <td>audio_features</td>\n",
              "      <td>spotify:track:4WjB9MQVr8WcsnJbhsttqh</td>\n",
              "      <td>0.282</td>\n",
              "      <td>新しい人</td>\n",
              "    </tr>\n",
              "    <tr>\n",
              "      <th>4</th>\n",
              "      <td>0.133000</td>\n",
              "      <td>https://api.spotify.com/v1/audio-analysis/1S71...</td>\n",
              "      <td>0.590</td>\n",
              "      <td>215573</td>\n",
              "      <td>0.757</td>\n",
              "      <td>1S71jMRsHowXcqt13hNVc0</td>\n",
              "      <td>0.014200</td>\n",
              "      <td>10</td>\n",
              "      <td>0.4220</td>\n",
              "      <td>-5.796</td>\n",
              "      <td>1</td>\n",
              "      <td>0.0323</td>\n",
              "      <td>114.088</td>\n",
              "      <td>4</td>\n",
              "      <td>https://api.spotify.com/v1/tracks/1S71jMRsHowX...</td>\n",
              "      <td>audio_features</td>\n",
              "      <td>spotify:track:1S71jMRsHowXcqt13hNVc0</td>\n",
              "      <td>0.639</td>\n",
              "      <td>2102</td>\n",
              "    </tr>\n",
              "  </tbody>\n",
              "</table>\n",
              "</div>"
            ],
            "text/plain": [
              "   acousticness                                       analysis_url  \\\n",
              "0      0.000571  https://api.spotify.com/v1/audio-analysis/2W53...   \n",
              "1      0.010900  https://api.spotify.com/v1/audio-analysis/5Q9Q...   \n",
              "2      0.015600  https://api.spotify.com/v1/audio-analysis/6rKN...   \n",
              "3      0.257000  https://api.spotify.com/v1/audio-analysis/4WjB...   \n",
              "4      0.133000  https://api.spotify.com/v1/audio-analysis/1S71...   \n",
              "\n",
              "   danceability  duration_ms  energy                      id  \\\n",
              "0         0.496       220093   0.693  2W53mNmiU1NWS5vqHxcJqT   \n",
              "1         0.527       200840   0.835  5Q9QkpgfVavSohqVSPKqN2   \n",
              "2         0.288       289027   0.841  6rKNtTTC2rQhHyrKBhniQa   \n",
              "3         0.498       196973   0.710  4WjB9MQVr8WcsnJbhsttqh   \n",
              "4         0.590       215573   0.757  1S71jMRsHowXcqt13hNVc0   \n",
              "\n",
              "   instrumentalness  key  liveness  loudness  mode  speechiness    tempo  \\\n",
              "0          0.000061   11    0.0795    -2.883     0       0.0353  122.019   \n",
              "1          0.000041    9    0.0999    -5.341     1       0.0259   99.990   \n",
              "2          0.000002    7    0.3000    -4.076     1       0.0326  182.027   \n",
              "3          0.000002    9    0.1190    -4.361     0       0.0309   82.920   \n",
              "4          0.014200   10    0.4220    -5.796     1       0.0323  114.088   \n",
              "\n",
              "   time_signature                                         track_href  \\\n",
              "0               4  https://api.spotify.com/v1/tracks/2W53mNmiU1NW...   \n",
              "1               4  https://api.spotify.com/v1/tracks/5Q9QkpgfVavS...   \n",
              "2               4  https://api.spotify.com/v1/tracks/6rKNtTTC2rQh...   \n",
              "3               4  https://api.spotify.com/v1/tracks/4WjB9MQVr8Wc...   \n",
              "4               4  https://api.spotify.com/v1/tracks/1S71jMRsHowX...   \n",
              "\n",
              "             type                                   uri  valence    name  \n",
              "0  audio_features  spotify:track:2W53mNmiU1NWS5vqHxcJqT    0.688   哲学の先生  \n",
              "1  audio_features  spotify:track:5Q9QkpgfVavSohqVSPKqN2    0.562  ギターの教本  \n",
              "2  audio_features  spotify:track:6rKNtTTC2rQhHyrKBhniQa    0.465     悪い癖  \n",
              "3  audio_features  spotify:track:4WjB9MQVr8WcsnJbhsttqh    0.282    新しい人  \n",
              "4  audio_features  spotify:track:1S71jMRsHowXcqt13hNVc0    0.639    2102  "
            ]
          },
          "metadata": {
            "tags": []
          },
          "execution_count": 9
        }
      ]
    },
    {
      "metadata": {
        "id": "-_MTN6SAEaWT",
        "colab_type": "code",
        "outputId": "cd05d9e2-6537-48b1-ea6c-3ab67b089ebc",
        "colab": {
          "base_uri": "https://localhost:8080/",
          "height": 495
        }
      },
      "cell_type": "code",
      "source": [
        "df_valence = df[['valence', 'name']]\n",
        "df_valence.sort_values('valence', ascending=False, inplace=True)\n",
        "xlabel = df_valence['name']\n",
        "\n",
        "fig, ax = plt.subplots()\n",
        "fig.set_size_inches(12, 5)\n",
        "\n",
        "# jp-font\n",
        "ticks_font = font_manager.FontProperties(family='IPAGothic', style='normal', weight='normal', stretch='normal')\n",
        "\n",
        "plt.bar(range(len(df_valence)), df_valence['valence'], tick_label=xlabel, align=\"center\", axes=ax)\n",
        "for tick in ax.get_xticklabels():\n",
        "    tick.set_rotation(90)\n",
        "    tick.set_fontproperties(ticks_font)"
      ],
      "execution_count": 18,
      "outputs": [
        {
          "output_type": "stream",
          "text": [
            "/usr/local/lib/python3.6/dist-packages/ipykernel_launcher.py:2: SettingWithCopyWarning: \n",
            "A value is trying to be set on a copy of a slice from a DataFrame\n",
            "\n",
            "See the caveats in the documentation: http://pandas.pydata.org/pandas-docs/stable/indexing.html#indexing-view-versus-copy\n",
            "  \n"
          ],
          "name": "stderr"
        },
        {
          "output_type": "display_data",
          "data": {
            "image/png": "[encoded data removed]",
            "text/plain": [
              "<Figure size 864x360 with 1 Axes>"
            ]
          },
          "metadata": {
            "tags": []
          }
        }
      ]
    },
    {
      "metadata": {
        "id": "0HeEK7WrEaWY",
        "colab_type": "code",
        "outputId": "be9f14db-f110-4329-ac95-f5792a04c558",
        "colab": {
          "base_uri": "https://localhost:8080/",
          "height": 350
        }
      },
      "cell_type": "code",
      "source": [
        "sns.boxplot(df['danceability'])"
      ],
      "execution_count": 25,
      "outputs": [
        {
          "output_type": "stream",
          "text": [
            "/usr/local/lib/python3.6/dist-packages/seaborn/categorical.py:454: FutureWarning: remove_na is deprecated and is a private function. Do not use.\n",
            "  box_data = remove_na(group_data)\n"
          ],
          "name": "stderr"
        },
        {
          "output_type": "execute_result",
          "data": {
            "text/plain": [
              "<matplotlib.axes._subplots.AxesSubplot at 0x7fa53a9f8f28>"
            ]
          },
          "metadata": {
            "tags": []
          },
          "execution_count": 25
        },
        {
          "output_type": "display_data",
          "data": {
            "image/png": "[encoded data removed]",
            "text/plain": [
              "<Figure size 432x288 with 1 Axes>"
            ]
          },
          "metadata": {
            "tags": []
          }
        }
      ]
    },
    {
      "metadata": {
        "id": "RbuT3sfuEaWc",
        "colab_type": "code",
        "outputId": "a766718d-cfae-43ce-a39a-b11f0b49597e",
        "colab": {
          "base_uri": "https://localhost:8080/",
          "height": 408
        }
      },
      "cell_type": "code",
      "source": [
        "fig, ax = plt.subplots(ncols=3)\n",
        "fig.set_size_inches(12, 6)\n",
        "\n",
        "sns.swarmplot(y='danceability', x='mode', data=df, ax=ax[0])\n",
        "sns.swarmplot(y='energy', x='mode', data=df, ax=ax[1])\n",
        "sns.swarmplot(y='loudness', x='mode', data=df, ax=ax[2])"
      ],
      "execution_count": 26,
      "outputs": [
        {
          "output_type": "execute_result",
          "data": {
            "text/plain": [
              "<matplotlib.axes._subplots.AxesSubplot at 0x7fa53a936400>"
            ]
          },
          "metadata": {
            "tags": []
          },
          "execution_count": 26
        },
        {
          "output_type": "display_data",
          "data": {
            "image/png": "[encoded data removed]",
            "text/plain": [
              "<Figure size 864x432 with 3 Axes>"
            ]
          },
          "metadata": {
            "tags": []
          }
        }
      ]
    },
    {
      "metadata": {
        "id": "4gB5dEwjEaWf",
        "colab_type": "code",
        "outputId": "a933bdfc-32f0-4679-913d-17ed07b55d24",
        "colab": {}
      },
      "cell_type": "code",
      "source": [
        "sns.jointplot(x='valence', y='energy', data=df)\n",
        "plt.ylim([0.7, 1.0])"
      ],
      "execution_count": 0,
      "outputs": [
        {
          "output_type": "execute_result",
          "data": {
            "text/plain": [
              "(0.7, 1.0)"
            ]
          },
          "metadata": {
            "tags": []
          },
          "execution_count": 65
        },
        {
          "output_type": "display_data",
          "data": {
            "image/png": "[encoded data removed]",
            "text/plain": [
              "<matplotlib.figure.Figure at 0x1a212aee48>"
            ]
          },
          "metadata": {
            "tags": []
          }
        }
      ]
    },
    {
      "metadata": {
        "id": "zMSvYLSKEaWl",
        "colab_type": "code",
        "outputId": "9b6cc759-3ed0-41ce-9548-506ee5d8d5d4",
        "colab": {}
      },
      "cell_type": "code",
      "source": [
        "sns.jointplot(x='energy', y='loudness', data=df)"
      ],
      "execution_count": 0,
      "outputs": [
        {
          "output_type": "execute_result",
          "data": {
            "text/plain": [
              "<seaborn.axisgrid.JointGrid at 0x1a1f528630>"
            ]
          },
          "metadata": {
            "tags": []
          },
          "execution_count": 69
        },
        {
          "output_type": "display_data",
          "data": {
            "image/png": "[encoded data removed]",
            "text/plain": [
              "<matplotlib.figure.Figure at 0x1a1f537358>"
            ]
          },
          "metadata": {
            "tags": []
          }
        }
      ]
    },
    {
      "metadata": {
        "id": "SrVfcsC7EaWq",
        "colab_type": "code",
        "outputId": "a8032884-2ca4-4de8-ad76-9fac8cb2f698",
        "colab": {}
      },
      "cell_type": "code",
      "source": [
        "df_gaudies = pd.read_csv('audio_features_ガウディーズ.csv')\n",
        "\n",
        "df_valence_gaudies = df_gaudies[['valence', 'name']]\n",
        "df_valence_gaudies.sort_values('valence', ascending=False, inplace=True)\n",
        "xlabel = df_valence_gaudies['name']\n",
        "\n",
        "fig, ax = plt.subplots()\n",
        "fig.set_size_inches(12, 5)\n",
        "\n",
        "plt.bar(range(len(df_valence_gaudies)), df_valence_gaudies['valence'], tick_label=xlabel, align=\"center\", axes=ax)\n",
        "for tick in ax.get_xticklabels():\n",
        "    tick.set_rotation(90)\n"
      ],
      "execution_count": 0,
      "outputs": [
        {
          "output_type": "stream",
          "text": [
            "/Users/kentaojapi/anaconda3/lib/python3.6/site-packages/ipykernel_launcher.py:4: SettingWithCopyWarning: \n",
            "A value is trying to be set on a copy of a slice from a DataFrame\n",
            "\n",
            "See the caveats in the documentation: http://pandas.pydata.org/pandas-docs/stable/indexing.html#indexing-view-versus-copy\n",
            "  after removing the cwd from sys.path.\n"
          ],
          "name": "stderr"
        },
        {
          "output_type": "display_data",
          "data": {
            "image/png": "[encoded data removed]",
            "text/plain": [
              "<matplotlib.figure.Figure at 0x11a856668>"
            ]
          },
          "metadata": {
            "tags": []
          }
        }
      ]
    },
    {
      "metadata": {
        "id": "wXTha14DEaWv",
        "colab_type": "code",
        "outputId": "8b32e12b-cf57-47d7-9d91-c28335ed7172",
        "colab": {}
      },
      "cell_type": "code",
      "source": [
        "sns.boxplot(df_gaudies['danceability'])"
      ],
      "execution_count": 0,
      "outputs": [
        {
          "output_type": "execute_result",
          "data": {
            "text/plain": [
              "<matplotlib.axes._subplots.AxesSubplot at 0x1a1e6f8fd0>"
            ]
          },
          "metadata": {
            "tags": []
          },
          "execution_count": 41
        },
        {
          "output_type": "display_data",
          "data": {
            "image/png": "[encoded data removed]",
            "text/plain": [
              "<matplotlib.figure.Figure at 0x1a1e6f9a20>"
            ]
          },
          "metadata": {
            "tags": []
          }
        }
      ]
    },
    {
      "metadata": {
        "id": "qfnx_TZ3EaW1",
        "colab_type": "code",
        "outputId": "8dcf338e-f6ee-4516-ac6c-f02138213d38",
        "colab": {}
      },
      "cell_type": "code",
      "source": [
        "fig, ax = plt.subplots(ncols=2)\n",
        "fig.set_size_inches(12, 6)\n",
        "sns.swarmplot(y='danceability', x='mode', data=df_gaudies, ax=ax[0])\n",
        "sns.swarmplot(y='energy', x='mode', data=df_gaudies, ax=ax[1])"
      ],
      "execution_count": 0,
      "outputs": [
        {
          "output_type": "execute_result",
          "data": {
            "text/plain": [
              "<matplotlib.axes._subplots.AxesSubplot at 0x1a216d92b0>"
            ]
          },
          "metadata": {
            "tags": []
          },
          "execution_count": 66
        },
        {
          "output_type": "display_data",
          "data": {
            "image/png": "[encoded data removed]",
            "text/plain": [
              "<matplotlib.figure.Figure at 0x1a215d64a8>"
            ]
          },
          "metadata": {
            "tags": []
          }
        }
      ]
    },
    {
      "metadata": {
        "id": "06WKteoZ3LDT",
        "colab_type": "text"
      },
      "cell_type": "markdown",
      "source": [
        "# Edit top200.csv \n"
      ]
    },
    {
      "metadata": {
        "id": "wOnpdSyp3J_H",
        "colab_type": "code",
        "colab": {}
      },
      "cell_type": "code",
      "source": [
        "import pandas as pd\n",
        "import matplotlib.pyplot as plt\n",
        "from matplotlib import rc, font_manager\n",
        "import matplotlib\n",
        "import seaborn as sns\n",
        "import numpy as np\n",
        "%matplotlib inline\n",
        "import matplotlib as mpl\n",
        "#mpl.rcParams['font.family'] = 'AppleGothic'"
      ],
      "execution_count": 0,
      "outputs": []
    },
    {
      "metadata": {
        "id": "n8I09acHJjQY",
        "colab_type": "code",
        "colab": {}
      },
      "cell_type": "code",
      "source": [
        "from googleapiclient.discovery import build\n",
        "import io, os\n",
        "from googleapiclient.http import MediaIoBaseDownload\n",
        "from google.colab import auth\n",
        "\n",
        "auth.authenticate_user()"
      ],
      "execution_count": 0,
      "outputs": []
    },
    {
      "metadata": {
        "id": "3gIoJRDN3vRj",
        "colab_type": "code",
        "colab": {
          "base_uri": "https://localhost:8080/",
          "height": 122
        },
        "outputId": "c6a9c9ea-8174-43c9-957d-728ede84a38d"
      },
      "cell_type": "code",
      "source": [
        "from google.colab import drive\n",
        "drive.mount('/content/drive')"
      ],
      "execution_count": 4,
      "outputs": [
        {
          "output_type": "stream",
          "text": [
            "Go to this URL in a browser: https://accounts.google.com/o/oauth2/auth?client_id=947318989803-6bn6qk8qdgf4n4g3pfee6491hc0brc4i.apps.googleusercontent.com&redirect_uri=urn%3Aietf%3Awg%3Aoauth%3A2.0%3Aoob&scope=email%20https%3A%2F%2Fwww.googleapis.com%2Fauth%2Fdocs.test%20https%3A%2F%2Fwww.googleapis.com%2Fauth%2Fdrive%20https%3A%2F%2Fwww.googleapis.com%2Fauth%2Fdrive.photos.readonly%20https%3A%2F%2Fwww.googleapis.com%2Fauth%2Fpeopleapi.readonly&response_type=code\n",
            "\n",
            "Enter your authorization code:\n",
            "··········\n",
            "Mounted at /content/drive\n"
          ],
          "name": "stdout"
        }
      ]
    },
    {
      "metadata": {
        "id": "19BOifxZ9diV",
        "colab_type": "code",
        "colab": {
          "base_uri": "https://localhost:8080/",
          "height": 51
        },
        "outputId": "d8d98883-0e4e-49ca-a509-449b2a8b6143"
      },
      "cell_type": "code",
      "source": [
        "!mkdir audio-features\n",
        "!ls ../content/audio-features/"
      ],
      "execution_count": 13,
      "outputs": [
        {
          "output_type": "stream",
          "text": [
            "mkdir: cannot create directory ‘audio-features’: File exists\n",
            "audio-features_gaudies.csv\n"
          ],
          "name": "stdout"
        }
      ]
    },
    {
      "metadata": {
        "id": "lpbFi1Zb8kRU",
        "colab_type": "code",
        "colab": {}
      },
      "cell_type": "code",
      "source": [
        "from google.cloud import storage\n",
        "\n",
        "\n",
        "def download_blob(bucket_name, source_blob_name, destination_file_name):\n",
        "    storage_client = storage.Client('atomic-lens-188216')\n",
        "    bucket = storage_client.get_bucket(bucket_name)\n",
        "    blob = bucket.blob(source_blob_name)\n",
        "    blob.download_to_filename(destination_file_name)\n",
        "\n",
        "\n",
        "bucket_name = \"spotify-analysis\"\n",
        "source_blob_name = \"top200.csv\"\n",
        "destination_file_name = \"../content/audio-features/top200.csv\"\n",
        "download_blob(bucket_name, source_blob_name, destination_file_name)"
      ],
      "execution_count": 0,
      "outputs": []
    },
    {
      "metadata": {
        "id": "GX_Xaqsf4UOh",
        "colab_type": "code",
        "colab": {
          "base_uri": "https://localhost:8080/",
          "height": 289
        },
        "outputId": "c23a1310-07d4-45e8-f716-cd715e3de0f4"
      },
      "cell_type": "code",
      "source": [
        "df = pd.read_csv('../content/audio-features/top200.csv', skiprows=1)\n",
        "df.head()"
      ],
      "execution_count": 15,
      "outputs": [
        {
          "output_type": "execute_result",
          "data": {
            "text/html": [
              "<div>\n",
              "<style scoped>\n",
              "    .dataframe tbody tr th:only-of-type {\n",
              "        vertical-align: middle;\n",
              "    }\n",
              "\n",
              "    .dataframe tbody tr th {\n",
              "        vertical-align: top;\n",
              "    }\n",
              "\n",
              "    .dataframe thead th {\n",
              "        text-align: right;\n",
              "    }\n",
              "</style>\n",
              "<table border=\"1\" class=\"dataframe\">\n",
              "  <thead>\n",
              "    <tr style=\"text-align: right;\">\n",
              "      <th></th>\n",
              "      <th>Position</th>\n",
              "      <th>Track Name</th>\n",
              "      <th>Artist</th>\n",
              "      <th>Streams</th>\n",
              "      <th>URL</th>\n",
              "    </tr>\n",
              "  </thead>\n",
              "  <tbody>\n",
              "    <tr>\n",
              "      <th>0</th>\n",
              "      <td>1</td>\n",
              "      <td>7 rings</td>\n",
              "      <td>Ariana Grande</td>\n",
              "      <td>4343924</td>\n",
              "      <td>https://open.spotify.com/track/6ocbgoVGwYJhOv1...</td>\n",
              "    </tr>\n",
              "    <tr>\n",
              "      <th>1</th>\n",
              "      <td>2</td>\n",
              "      <td>Con Calma</td>\n",
              "      <td>Daddy Yankee</td>\n",
              "      <td>4342484</td>\n",
              "      <td>https://open.spotify.com/track/5w9c2J52mkdntKO...</td>\n",
              "    </tr>\n",
              "    <tr>\n",
              "      <th>2</th>\n",
              "      <td>3</td>\n",
              "      <td>Sucker</td>\n",
              "      <td>Jonas Brothers</td>\n",
              "      <td>3696002</td>\n",
              "      <td>https://open.spotify.com/track/4y3OI86AEP6PQoD...</td>\n",
              "    </tr>\n",
              "    <tr>\n",
              "      <th>3</th>\n",
              "      <td>4</td>\n",
              "      <td>Sunflower - Spider-Man: Into the Spider-Verse</td>\n",
              "      <td>Post Malone</td>\n",
              "      <td>3372917</td>\n",
              "      <td>https://open.spotify.com/track/3KkXRkHbMCARz0a...</td>\n",
              "    </tr>\n",
              "    <tr>\n",
              "      <th>4</th>\n",
              "      <td>5</td>\n",
              "      <td>Wow.</td>\n",
              "      <td>Post Malone</td>\n",
              "      <td>3269784</td>\n",
              "      <td>https://open.spotify.com/track/6MWtB6iiXyIwun0...</td>\n",
              "    </tr>\n",
              "  </tbody>\n",
              "</table>\n",
              "</div>"
            ],
            "text/plain": [
              "   Position                                     Track Name          Artist  \\\n",
              "0         1                                        7 rings   Ariana Grande   \n",
              "1         2                                      Con Calma    Daddy Yankee   \n",
              "2         3                                         Sucker  Jonas Brothers   \n",
              "3         4  Sunflower - Spider-Man: Into the Spider-Verse     Post Malone   \n",
              "4         5                                           Wow.     Post Malone   \n",
              "\n",
              "   Streams                                                URL  \n",
              "0  4343924  https://open.spotify.com/track/6ocbgoVGwYJhOv1...  \n",
              "1  4342484  https://open.spotify.com/track/5w9c2J52mkdntKO...  \n",
              "2  3696002  https://open.spotify.com/track/4y3OI86AEP6PQoD...  \n",
              "3  3372917  https://open.spotify.com/track/3KkXRkHbMCARz0a...  \n",
              "4  3269784  https://open.spotify.com/track/6MWtB6iiXyIwun0...  "
            ]
          },
          "metadata": {
            "tags": []
          },
          "execution_count": 15
        }
      ]
    },
    {
      "metadata": {
        "id": "VcEBRhT4DT9O",
        "colab_type": "code",
        "colab": {
          "base_uri": "https://localhost:8080/",
          "height": 68
        },
        "outputId": "1f7cafbb-7f54-4a72-9216-03e12bcdd16c"
      },
      "cell_type": "code",
      "source": [
        "# Count duplications.\n",
        "print(df.duplicated(subset='Artist').value_counts())"
      ],
      "execution_count": 55,
      "outputs": [
        {
          "output_type": "stream",
          "text": [
            "False    125\n",
            "True      75\n",
            "dtype: int64\n"
          ],
          "name": "stdout"
        }
      ]
    },
    {
      "metadata": {
        "id": "bGh7R41Y4pRM",
        "colab_type": "code",
        "colab": {
          "base_uri": "https://localhost:8080/",
          "height": 272
        },
        "outputId": "75bbac40-d4cb-4411-a24f-14bb8a05831f"
      },
      "cell_type": "code",
      "source": [
        "df_nonduplicate = df.drop_duplicates(subset='Artist')\n",
        "df_nonduplicate.to_csv('../content/audio-features/top200_nonduplicate.csv')\n",
        "df_nonduplicate.head()"
      ],
      "execution_count": 16,
      "outputs": [
        {
          "output_type": "execute_result",
          "data": {
            "text/html": [
              "<div>\n",
              "<style scoped>\n",
              "    .dataframe tbody tr th:only-of-type {\n",
              "        vertical-align: middle;\n",
              "    }\n",
              "\n",
              "    .dataframe tbody tr th {\n",
              "        vertical-align: top;\n",
              "    }\n",
              "\n",
              "    .dataframe thead th {\n",
              "        text-align: right;\n",
              "    }\n",
              "</style>\n",
              "<table border=\"1\" class=\"dataframe\">\n",
              "  <thead>\n",
              "    <tr style=\"text-align: right;\">\n",
              "      <th></th>\n",
              "      <th>Position</th>\n",
              "      <th>Track Name</th>\n",
              "      <th>Artist</th>\n",
              "      <th>Streams</th>\n",
              "      <th>URL</th>\n",
              "    </tr>\n",
              "  </thead>\n",
              "  <tbody>\n",
              "    <tr>\n",
              "      <th>0</th>\n",
              "      <td>1</td>\n",
              "      <td>7 rings</td>\n",
              "      <td>Ariana Grande</td>\n",
              "      <td>4343924</td>\n",
              "      <td>https://open.spotify.com/track/6ocbgoVGwYJhOv1...</td>\n",
              "    </tr>\n",
              "    <tr>\n",
              "      <th>1</th>\n",
              "      <td>2</td>\n",
              "      <td>Con Calma</td>\n",
              "      <td>Daddy Yankee</td>\n",
              "      <td>4342484</td>\n",
              "      <td>https://open.spotify.com/track/5w9c2J52mkdntKO...</td>\n",
              "    </tr>\n",
              "    <tr>\n",
              "      <th>2</th>\n",
              "      <td>3</td>\n",
              "      <td>Sucker</td>\n",
              "      <td>Jonas Brothers</td>\n",
              "      <td>3696002</td>\n",
              "      <td>https://open.spotify.com/track/4y3OI86AEP6PQoD...</td>\n",
              "    </tr>\n",
              "    <tr>\n",
              "      <th>3</th>\n",
              "      <td>4</td>\n",
              "      <td>Sunflower - Spider-Man: Into the Spider-Verse</td>\n",
              "      <td>Post Malone</td>\n",
              "      <td>3372917</td>\n",
              "      <td>https://open.spotify.com/track/3KkXRkHbMCARz0a...</td>\n",
              "    </tr>\n",
              "    <tr>\n",
              "      <th>5</th>\n",
              "      <td>6</td>\n",
              "      <td>Shallow</td>\n",
              "      <td>Lady Gaga</td>\n",
              "      <td>3189842</td>\n",
              "      <td>https://open.spotify.com/track/2VxeLyX666F8uXC...</td>\n",
              "    </tr>\n",
              "  </tbody>\n",
              "</table>\n",
              "</div>"
            ],
            "text/plain": [
              "   Position                                     Track Name          Artist  \\\n",
              "0         1                                        7 rings   Ariana Grande   \n",
              "1         2                                      Con Calma    Daddy Yankee   \n",
              "2         3                                         Sucker  Jonas Brothers   \n",
              "3         4  Sunflower - Spider-Man: Into the Spider-Verse     Post Malone   \n",
              "5         6                                        Shallow       Lady Gaga   \n",
              "\n",
              "   Streams                                                URL  \n",
              "0  4343924  https://open.spotify.com/track/6ocbgoVGwYJhOv1...  \n",
              "1  4342484  https://open.spotify.com/track/5w9c2J52mkdntKO...  \n",
              "2  3696002  https://open.spotify.com/track/4y3OI86AEP6PQoD...  \n",
              "3  3372917  https://open.spotify.com/track/3KkXRkHbMCARz0a...  \n",
              "5  3189842  https://open.spotify.com/track/2VxeLyX666F8uXC...  "
            ]
          },
          "metadata": {
            "tags": []
          },
          "execution_count": 16
        }
      ]
    },
    {
      "metadata": {
        "id": "Qxc0rReXFXTQ",
        "colab_type": "code",
        "colab": {
          "base_uri": "https://localhost:8080/",
          "height": 34
        },
        "outputId": "0b91fcf5-80b6-4dbe-a85f-8f89ebe7c1aa"
      },
      "cell_type": "code",
      "source": [
        "from google.cloud import storage\n",
        "\n",
        "\n",
        "def upload_blob(bucket_name, source_file_name, destination_blob_name):\n",
        "    \"\"\"Uploads a file to the bucket.\"\"\"\n",
        "    storage_client = storage.Client('atomic-lens-188216')\n",
        "    bucket = storage_client.get_bucket(bucket_name)\n",
        "    blob = bucket.blob(destination_blob_name)\n",
        "    blob.upload_from_filename(source_file_name)\n",
        "\n",
        "    print('File {} uploaded to {}.'.format(\n",
        "        source_file_name,\n",
        "        destination_blob_name))\n",
        "\n",
        "bucket_name = \"spotify-analysis\"\n",
        "source_file_name = '../content/audio-features/top200_nonduplicate.csv'\n",
        "destination_file_name =  'top200_nonduplicate.csv'\n",
        "upload_blob(bucket_name, source_file_name, destination_file_name)"
      ],
      "execution_count": 57,
      "outputs": [
        {
          "output_type": "stream",
          "text": [
            "File ../content/audio-features/top200_nonduplicate.csv uploaded to top200_nonduplicate.csv.\n"
          ],
          "name": "stdout"
        }
      ]
    },
    {
      "metadata": {
        "id": "ka4BHCML8L2m",
        "colab_type": "code",
        "colab": {}
      },
      "cell_type": "code",
      "source": [
        "# df_artists = df_nonduplicate.loc[:, [\"Artist\"]]\n",
        "# artists = df_artists.values.tolist()\n",
        "# artists"
      ],
      "execution_count": 0,
      "outputs": []
    },
    {
      "metadata": {
        "id": "gUCZw_M7k50C",
        "colab_type": "text"
      },
      "cell_type": "markdown",
      "source": [
        "# Analyze top 200 Chart"
      ]
    },
    {
      "metadata": {
        "id": "j543Uzklk8nr",
        "colab_type": "code",
        "colab": {}
      },
      "cell_type": "code",
      "source": [
        "import pandas as pd\n",
        "import matplotlib.pyplot as plt\n",
        "from matplotlib import rc, font_manager\n",
        "import matplotlib\n",
        "import seaborn as sns\n",
        "import numpy as np\n",
        "%matplotlib inline\n",
        "import matplotlib as mpl\n",
        "#mpl.rcParams['font.family'] = 'AppleGothic'"
      ],
      "execution_count": 0,
      "outputs": []
    },
    {
      "metadata": {
        "id": "xA6CVL68sOV2",
        "colab_type": "code",
        "colab": {}
      },
      "cell_type": "code",
      "source": [
        "from google.cloud import storage\n",
        "\n",
        "\n",
        "def download_blob(bucket_name, source_blob_name, destination_file_name):\n",
        "    storage_client = storage.Client('atomic-lens-188216')\n",
        "    bucket = storage_client.get_bucket(bucket_name)\n",
        "    blob = bucket.blob(source_blob_name)\n",
        "    blob.download_to_filename(destination_file_name)\n",
        "\n",
        "\n",
        "bucket_name = \"spotify-analysis\"\n",
        "source_blob_name = \"audio-features_{}.csv\".format(artist_name)\n",
        "destination_file_name = \"../content/audio-features/audio-features_{}.csv\".format(artist_name)\n",
        "download_blob(bucket_name, source_blob_name, destination_file_name)"
      ],
      "execution_count": 0,
      "outputs": []
    },
    {
      "metadata": {
        "id": "-bk7-Tg_GToT",
        "colab_type": "code",
        "colab": {}
      },
      "cell_type": "code",
      "source": [
        "a = pd.DataFrame"
      ],
      "execution_count": 0,
      "outputs": []
    },
    {
      "metadata": {
        "id": "CEL5eawjGVC2",
        "colab_type": "code",
        "colab": {
          "base_uri": "https://localhost:8080/",
          "height": 34
        },
        "outputId": "1f4aeffe-aa77-44aa-d256-fb4356768e5a"
      },
      "cell_type": "code",
      "source": [
        ""
      ],
      "execution_count": 29,
      "outputs": [
        {
          "output_type": "execute_result",
          "data": {
            "text/plain": [
              "pandas.core.frame.DataFrame"
            ]
          },
          "metadata": {
            "tags": []
          },
          "execution_count": 29
        }
      ]
    },
    {
      "metadata": {
        "id": "JwFgkd6iGVgu",
        "colab_type": "code",
        "colab": {}
      },
      "cell_type": "code",
      "source": [
        ""
      ],
      "execution_count": 0,
      "outputs": []
    }
  ]
}